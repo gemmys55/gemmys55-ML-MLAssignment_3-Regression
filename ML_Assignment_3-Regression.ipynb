{
 "cells": [
  {
   "cell_type": "code",
   "execution_count": 1,
   "id": "c716ab75-0ecf-4de5-b88f-aa6e7544382e",
   "metadata": {},
   "outputs": [],
   "source": [
    "# Importing Required Libraries\n",
    "import numpy as np\n",
    "import pandas as pd\n",
    "from sklearn.datasets import fetch_california_housing\n",
    "from sklearn.model_selection import train_test_split\n",
    "from sklearn.preprocessing import StandardScaler\n",
    "from sklearn.linear_model import LinearRegression\n",
    "from sklearn.tree import DecisionTreeRegressor\n",
    "from sklearn.ensemble import RandomForestRegressor, GradientBoostingRegressor\n",
    "from sklearn.svm import SVR\n",
    "from sklearn.metrics import mean_squared_error, mean_absolute_error, r2_score\n",
    "\n",
    "\n"
   ]
  },
  {
   "cell_type": "code",
   "execution_count": null,
   "id": "aae7fc80-3c0d-4b04-b415-4ffa8cef757d",
   "metadata": {},
   "outputs": [],
   "source": [
    "# Loading and Preprocessing"
   ]
  },
  {
   "cell_type": "code",
   "execution_count": 3,
   "id": "7e49c1d5-e30e-4a43-898e-be22428e8db7",
   "metadata": {},
   "outputs": [],
   "source": [
    "# Step 1: Load the Dataset\n",
    "data = fetch_california_housing()\n",
    "df = pd.DataFrame(data.data, columns=data.feature_names)\n",
    "df['Target'] = data.target"
   ]
  },
  {
   "cell_type": "code",
   "execution_count": 7,
   "id": "f952689b-460b-4ff2-a407-052efa745612",
   "metadata": {},
   "outputs": [
    {
     "data": {
      "text/html": [
       "<div>\n",
       "<style scoped>\n",
       "    .dataframe tbody tr th:only-of-type {\n",
       "        vertical-align: middle;\n",
       "    }\n",
       "\n",
       "    .dataframe tbody tr th {\n",
       "        vertical-align: top;\n",
       "    }\n",
       "\n",
       "    .dataframe thead th {\n",
       "        text-align: right;\n",
       "    }\n",
       "</style>\n",
       "<table border=\"1\" class=\"dataframe\">\n",
       "  <thead>\n",
       "    <tr style=\"text-align: right;\">\n",
       "      <th></th>\n",
       "      <th>MedInc</th>\n",
       "      <th>HouseAge</th>\n",
       "      <th>AveRooms</th>\n",
       "      <th>AveBedrms</th>\n",
       "      <th>Population</th>\n",
       "      <th>AveOccup</th>\n",
       "      <th>Latitude</th>\n",
       "      <th>Longitude</th>\n",
       "      <th>Target</th>\n",
       "    </tr>\n",
       "  </thead>\n",
       "  <tbody>\n",
       "    <tr>\n",
       "      <th>0</th>\n",
       "      <td>8.3252</td>\n",
       "      <td>41.0</td>\n",
       "      <td>6.984127</td>\n",
       "      <td>1.023810</td>\n",
       "      <td>322.0</td>\n",
       "      <td>2.555556</td>\n",
       "      <td>37.88</td>\n",
       "      <td>-122.23</td>\n",
       "      <td>4.526</td>\n",
       "    </tr>\n",
       "    <tr>\n",
       "      <th>1</th>\n",
       "      <td>8.3014</td>\n",
       "      <td>21.0</td>\n",
       "      <td>6.238137</td>\n",
       "      <td>0.971880</td>\n",
       "      <td>2401.0</td>\n",
       "      <td>2.109842</td>\n",
       "      <td>37.86</td>\n",
       "      <td>-122.22</td>\n",
       "      <td>3.585</td>\n",
       "    </tr>\n",
       "    <tr>\n",
       "      <th>2</th>\n",
       "      <td>7.2574</td>\n",
       "      <td>52.0</td>\n",
       "      <td>8.288136</td>\n",
       "      <td>1.073446</td>\n",
       "      <td>496.0</td>\n",
       "      <td>2.802260</td>\n",
       "      <td>37.85</td>\n",
       "      <td>-122.24</td>\n",
       "      <td>3.521</td>\n",
       "    </tr>\n",
       "    <tr>\n",
       "      <th>3</th>\n",
       "      <td>5.6431</td>\n",
       "      <td>52.0</td>\n",
       "      <td>5.817352</td>\n",
       "      <td>1.073059</td>\n",
       "      <td>558.0</td>\n",
       "      <td>2.547945</td>\n",
       "      <td>37.85</td>\n",
       "      <td>-122.25</td>\n",
       "      <td>3.413</td>\n",
       "    </tr>\n",
       "    <tr>\n",
       "      <th>4</th>\n",
       "      <td>3.8462</td>\n",
       "      <td>52.0</td>\n",
       "      <td>6.281853</td>\n",
       "      <td>1.081081</td>\n",
       "      <td>565.0</td>\n",
       "      <td>2.181467</td>\n",
       "      <td>37.85</td>\n",
       "      <td>-122.25</td>\n",
       "      <td>3.422</td>\n",
       "    </tr>\n",
       "  </tbody>\n",
       "</table>\n",
       "</div>"
      ],
      "text/plain": [
       "   MedInc  HouseAge  AveRooms  AveBedrms  Population  AveOccup  Latitude  \\\n",
       "0  8.3252      41.0  6.984127   1.023810       322.0  2.555556     37.88   \n",
       "1  8.3014      21.0  6.238137   0.971880      2401.0  2.109842     37.86   \n",
       "2  7.2574      52.0  8.288136   1.073446       496.0  2.802260     37.85   \n",
       "3  5.6431      52.0  5.817352   1.073059       558.0  2.547945     37.85   \n",
       "4  3.8462      52.0  6.281853   1.081081       565.0  2.181467     37.85   \n",
       "\n",
       "   Longitude  Target  \n",
       "0    -122.23   4.526  \n",
       "1    -122.22   3.585  \n",
       "2    -122.24   3.521  \n",
       "3    -122.25   3.413  \n",
       "4    -122.25   3.422  "
      ]
     },
     "metadata": {},
     "output_type": "display_data"
    }
   ],
   "source": [
    "display(df.head())"
   ]
  },
  {
   "cell_type": "code",
   "execution_count": 9,
   "id": "7b296863-2470-4be3-8294-0eef330895d3",
   "metadata": {},
   "outputs": [
    {
     "name": "stdout",
     "output_type": "stream",
     "text": [
      "Missing values in each column:\n",
      " MedInc        0\n",
      "HouseAge      0\n",
      "AveRooms      0\n",
      "AveBedrms     0\n",
      "Population    0\n",
      "AveOccup      0\n",
      "Latitude      0\n",
      "Longitude     0\n",
      "Target        0\n",
      "dtype: int64\n"
     ]
    }
   ],
   "source": [
    "# Step 2: Check for Missing Values\n",
    "print(\"Missing values in each column:\\n\", df.isnull().sum())\n"
   ]
  },
  {
   "cell_type": "code",
   "execution_count": 23,
   "id": "bbad8063-4aae-4e9c-8aea-536db0f6fdd5",
   "metadata": {},
   "outputs": [
    {
     "name": "stdout",
     "output_type": "stream",
     "text": [
      "               Model       MSE     MAE        R²\n",
      "0  Linear Regression  0.555892  0.5332  0.575788\n",
      "               Model       MSE       MAE        R²\n",
      "0  Linear Regression  0.555892  0.533200  0.575788\n",
      "1      Decision Tree  0.494272  0.453784  0.622811\n",
      "               Model       MSE       MAE        R²\n",
      "0  Linear Regression  0.555892  0.533200  0.575788\n",
      "1      Decision Tree  0.494272  0.453784  0.622811\n",
      "2      Random Forest  0.255498  0.327613  0.805024\n",
      "               Model       MSE       MAE        R²\n",
      "0  Linear Regression  0.555892  0.533200  0.575788\n",
      "1      Decision Tree  0.494272  0.453784  0.622811\n",
      "2      Random Forest  0.255498  0.327613  0.805024\n",
      "3  Gradient Boosting  0.293999  0.371650  0.775643\n",
      "               Model       MSE       MAE        R²\n",
      "0  Linear Regression  0.555892  0.533200  0.575788\n",
      "1      Decision Tree  0.494272  0.453784  0.622811\n",
      "2      Random Forest  0.255498  0.327613  0.805024\n",
      "3  Gradient Boosting  0.293999  0.371650  0.775643\n",
      "4                SVR  0.355198  0.397763  0.728941\n"
     ]
    }
   ],
   "source": [
    "# Step 2: Evaluate Models\n",
    "results = []\n",
    "for model_name, model in [('Linear Regression', lin_reg), \n",
    "                          ('Decision Tree', dt_reg), \n",
    "                          ('Random Forest', rf_reg),\n",
    "                          ('Gradient Boosting', gb_reg), \n",
    "                          ('SVR', svr)]:\n",
    "    # Get predictions\n",
    "    y_pred = model.predict(X_test)\n",
    "    # Calculate metrics\n",
    "    mse = mean_squared_error(y_test, y_pred)\n",
    "    mae = mean_absolute_error(y_test, y_pred)\n",
    "    r2 = r2_score(y_test, y_pred)\n",
    "    # Append metrics to results\n",
    "    results.append({'Model': model_name, 'MSE': mse, 'MAE': mae, 'R²': r2})\n",
    "    \n",
    "   # Step 3: Convert Results to DataFrame\n",
    "    results_df = pd.DataFrame(results)\n",
    "    print(results_df)"
   ]
  },
  {
   "cell_type": "code",
   "execution_count": 62,
   "id": "b1541bbd-bd05-46d5-9803-5c0d0ca2f961",
   "metadata": {},
   "outputs": [
    {
     "data": {
      "text/plain": [
       "0        4.526\n",
       "1        3.585\n",
       "2        3.521\n",
       "3        3.413\n",
       "4        3.422\n",
       "         ...  \n",
       "20635    0.781\n",
       "20636    0.771\n",
       "20637    0.923\n",
       "20638    0.847\n",
       "20639    0.894\n",
       "Name: Target, Length: 20640, dtype: float64"
      ]
     },
     "metadata": {},
     "output_type": "display_data"
    }
   ],
   "source": [
    "# Step 4: Feature Scaling\n",
    "scaler = StandardScaler()\n",
    "df_scaled = pd.DataFrame(scaler.fit_transform(df.iloc[:, :-1]), columns=data.feature_names)\n",
    "df_scaled['Target'] = df['Target']\n",
    "display(df.Target)"
   ]
  },
  {
   "cell_type": "code",
   "execution_count": null,
   "id": "1898dcc4-5d6d-41c4-9e12-21c14264cdb8",
   "metadata": {},
   "outputs": [],
   "source": [
    "#Regression Algorithm Implementation"
   ]
  },
  {
   "cell_type": "code",
   "execution_count": 26,
   "id": "7ccba0b6-2c44-4839-8440-4b9c063546ab",
   "metadata": {},
   "outputs": [
    {
     "name": "stdout",
     "output_type": "stream",
     "text": [
      "               Model       MSE       MAE        R²\n",
      "0  Linear Regression  0.555892  0.533200  0.575788\n",
      "1      Decision Tree  0.494272  0.453784  0.622811\n",
      "2      Random Forest  0.255498  0.327613  0.805024\n",
      "3  Gradient Boosting  0.293999  0.371650  0.775643\n",
      "4                SVR  0.355198  0.397763  0.728941\n"
     ]
    }
   ],
   "source": [
    "from sklearn.linear_model import LinearRegression\n",
    "from sklearn.tree import DecisionTreeRegressor\n",
    "from sklearn.ensemble import RandomForestRegressor, GradientBoostingRegressor\n",
    "from sklearn.svm import SVR\n",
    "from sklearn.metrics import mean_squared_error, mean_absolute_error, r2_score\n",
    "\n",
    "# Step 1: Define and Train Models\n",
    "lin_reg = LinearRegression()\n",
    "dt_reg = DecisionTreeRegressor(random_state=42)\n",
    "rf_reg = RandomForestRegressor(random_state=42)\n",
    "gb_reg = GradientBoostingRegressor(random_state=42)\n",
    "svr = SVR()\n",
    "\n",
    "# Train the models\n",
    "lin_reg.fit(X_train, y_train)\n",
    "dt_reg.fit(X_train, y_train)\n",
    "rf_reg.fit(X_train, y_train)\n",
    "gb_reg.fit(X_train, y_train)\n",
    "svr.fit(X_train, y_train)\n",
    "\n",
    "# Step 2: Evaluate Models\n",
    "results = []\n",
    "for model_name, model in [('Linear Regression', lin_reg), \n",
    "                          ('Decision Tree', dt_reg), \n",
    "                          ('Random Forest', rf_reg),\n",
    "                          ('Gradient Boosting', gb_reg), \n",
    "                          ('SVR', svr)]:\n",
    "    # Get predictions\n",
    "    y_pred = model.predict(X_test)\n",
    "    # Calculate metrics\n",
    "    mse = mean_squared_error(y_test, y_pred)\n",
    "    mae = mean_absolute_error(y_test, y_pred)\n",
    "    r2 = r2_score(y_test, y_pred)\n",
    "    # Append metrics to results\n",
    "    results.append({'Model': model_name, 'MSE': mse, 'MAE': mae, 'R²': r2})\n",
    "\n",
    "# Step 3: Convert Results to DataFrame\n",
    "results_df = pd.DataFrame(results)\n",
    "print(results_df)\n"
   ]
  },
  {
   "cell_type": "code",
   "execution_count": null,
   "id": "ec36e878-1cf5-46bd-b611-18cc4d541c19",
   "metadata": {},
   "outputs": [],
   "source": [
    "#Model Evaluation and Comparison"
   ]
  },
  {
   "cell_type": "code",
   "execution_count": 30,
   "id": "ae8c145a-cf6c-4bf7-840c-eeada3de8873",
   "metadata": {},
   "outputs": [
    {
     "name": "stdout",
     "output_type": "stream",
     "text": [
      "\n",
      "Model Performance Comparison:\n",
      "Model: Random Forest, MSE: 0.2555, MAE: 0.3276, R²: 0.8050\n",
      "Model: Gradient Boosting, MSE: 0.2940, MAE: 0.3717, R²: 0.7756\n",
      "Model: SVR, MSE: 0.3552, MAE: 0.3978, R²: 0.7289\n",
      "Model: Decision Tree, MSE: 0.4943, MAE: 0.4538, R²: 0.6228\n",
      "Model: Linear Regression, MSE: 0.5559, MAE: 0.5332, R²: 0.5758\n",
      "\n",
      "Best-performing model:\n",
      "Model: Random Forest, MSE: 0.2555, MAE: 0.3276, R²: 0.8050\n",
      "\n",
      "Worst-performing model:\n",
      "Model: Linear Regression, MSE: 0.5559, MAE: 0.5332, R²: 0.5758\n"
     ]
    }
   ],
   "source": [
    "# Identify best and worst models\n",
    "sorted_results = sorted(results, key=lambda x: x['MSE'])\n",
    "\n",
    "print(\"\\nModel Performance Comparison:\")\n",
    "for metrics in sorted_results:\n",
    "    print(f\"Model: {metrics['Model']}, MSE: {metrics['MSE']:.4f}, MAE: {metrics['MAE']:.4f}, R²: {metrics['R²']:.4f}\")\n",
    "\n",
    "# Best-performing model\n",
    "best_model = sorted_results[0]\n",
    "print(\"\\nBest-performing model:\")\n",
    "print(f\"Model: {best_model['Model']}, MSE: {best_model['MSE']:.4f}, MAE: {best_model['MAE']:.4f}, R²: {best_model['R²']:.4f}\")\n",
    "\n",
    "# Worst-performing model\n",
    "worst_model = sorted_results[-1]\n",
    "print(\"\\nWorst-performing model:\")\n",
    "print(f\"Model: {worst_model['Model']}, MSE: {worst_model['MSE']:.4f}, MAE: {worst_model['MAE']:.4f}, R²: {worst_model['R²']:.4f}\")\n",
    "\n"
   ]
  },
  {
   "cell_type": "code",
   "execution_count": null,
   "id": "f28c2319-a044-48b4-9a65-74021c540b36",
   "metadata": {},
   "outputs": [],
   "source": []
  }
 ],
 "metadata": {
  "kernelspec": {
   "display_name": "Python 3 (ipykernel)",
   "language": "python",
   "name": "python3"
  },
  "language_info": {
   "codemirror_mode": {
    "name": "ipython",
    "version": 3
   },
   "file_extension": ".py",
   "mimetype": "text/x-python",
   "name": "python",
   "nbconvert_exporter": "python",
   "pygments_lexer": "ipython3",
   "version": "3.12.4"
  }
 },
 "nbformat": 4,
 "nbformat_minor": 5
}
